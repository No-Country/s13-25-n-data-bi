{
 "cells": [
  {
   "cell_type": "code",
   "execution_count": 3,
   "id": "8b82f640-8ffd-4a50-9853-851a92d77cc7",
   "metadata": {
    "tags": []
   },
   "outputs": [],
   "source": [
    "# !pip install snowflake-connector-python"
   ]
  },
  {
   "cell_type": "code",
   "execution_count": 40,
   "id": "2d6886a9-c746-49d7-815f-954e7ff8d9fb",
   "metadata": {
    "tags": []
   },
   "outputs": [],
   "source": [
    "from data.SnowflakeConnection import connectionBD\n",
    "from data.SqlCommand import sqlCommand\n",
    "import pandas as pd"
   ]
  },
  {
   "cell_type": "code",
   "execution_count": 56,
   "id": "a5cdc826",
   "metadata": {},
   "outputs": [
    {
     "name": "stdout",
     "output_type": "stream",
     "text": [
      "['Construccion.sql']\n",
      "['Construccion.sql']\n",
      "Construccion.sql\n"
     ]
    },
    {
     "data": {
      "text/plain": [
       "['SELECT * FROM \"Compra\" LIMIT 10',\n",
       " 'SELECT  * FROM \"DATA\".CONSTRUCCION.\"MaterialConstruccion\"']"
      ]
     },
     "execution_count": 56,
     "metadata": {},
     "output_type": "execute_result"
    }
   ],
   "source": [
    "sqlCommands = sqlCommand(path='./data/sql/')\n",
    "sqlCommands"
   ]
  },
  {
   "cell_type": "code",
   "execution_count": 57,
   "id": "d9175c78",
   "metadata": {},
   "outputs": [
    {
     "data": {
      "text/plain": [
       "'SELECT  * FROM \"DATA\".CONSTRUCCION.\"MaterialConstruccion\"'"
      ]
     },
     "execution_count": 57,
     "metadata": {},
     "output_type": "execute_result"
    }
   ],
   "source": [
    "sqlCommands[1]"
   ]
  },
  {
   "cell_type": "code",
   "execution_count": 58,
   "id": "4a78049a-21be-449e-8669-d7b26a952164",
   "metadata": {
    "tags": []
   },
   "outputs": [],
   "source": [
    "\n",
    "\n",
    "\n",
    "conn = connectionBD()\n",
    "\n"
   ]
  },
  {
   "cell_type": "code",
   "execution_count": 59,
   "id": "c1899a21-5ae9-42de-9b10-26883d53bdbe",
   "metadata": {
    "tags": []
   },
   "outputs": [
    {
     "name": "stderr",
     "output_type": "stream",
     "text": [
      "C:\\Users\\ASUS\\AppData\\Local\\Temp\\ipykernel_12464\\4178181693.py:1: UserWarning: pandas only supports SQLAlchemy connectable (engine/connection) or database string URI or sqlite3 DBAPI2 connection. Other DBAPI2 objects are not tested. Please consider using SQLAlchemy.\n",
      "  df = pd.read_sql(sql=sqlCommands[1],con= conn)\n"
     ]
    }
   ],
   "source": [
    "df = pd.read_sql(sql=sqlCommands[1],con= conn)\n",
    "\n"
   ]
  },
  {
   "cell_type": "code",
   "execution_count": 60,
   "id": "31f08d90-976c-4952-b873-021249985623",
   "metadata": {
    "tags": []
   },
   "outputs": [
    {
     "data": {
      "text/html": [
       "<div>\n",
       "<style scoped>\n",
       "    .dataframe tbody tr th:only-of-type {\n",
       "        vertical-align: middle;\n",
       "    }\n",
       "\n",
       "    .dataframe tbody tr th {\n",
       "        vertical-align: top;\n",
       "    }\n",
       "\n",
       "    .dataframe thead th {\n",
       "        text-align: right;\n",
       "    }\n",
       "</style>\n",
       "<table border=\"1\" class=\"dataframe\">\n",
       "  <thead>\n",
       "    <tr style=\"text-align: right;\">\n",
       "      <th></th>\n",
       "      <th>ID_MaterialConstruccion</th>\n",
       "      <th>Nombre_Material</th>\n",
       "      <th>Importado</th>\n",
       "      <th>Precio_Unidad</th>\n",
       "    </tr>\n",
       "  </thead>\n",
       "  <tbody>\n",
       "    <tr>\n",
       "      <th>0</th>\n",
       "      <td>1</td>\n",
       "      <td>Granito</td>\n",
       "      <td>Si</td>\n",
       "      <td>1130</td>\n",
       "    </tr>\n",
       "    <tr>\n",
       "      <th>1</th>\n",
       "      <td>2</td>\n",
       "      <td>Marmol</td>\n",
       "      <td>No</td>\n",
       "      <td>2168</td>\n",
       "    </tr>\n",
       "    <tr>\n",
       "      <th>2</th>\n",
       "      <td>3</td>\n",
       "      <td>Cemento</td>\n",
       "      <td>Si</td>\n",
       "      <td>1278</td>\n",
       "    </tr>\n",
       "    <tr>\n",
       "      <th>3</th>\n",
       "      <td>4</td>\n",
       "      <td>Ladrillo</td>\n",
       "      <td>Si</td>\n",
       "      <td>1011</td>\n",
       "    </tr>\n",
       "    <tr>\n",
       "      <th>4</th>\n",
       "      <td>5</td>\n",
       "      <td>Vidrio</td>\n",
       "      <td>No</td>\n",
       "      <td>2339</td>\n",
       "    </tr>\n",
       "    <tr>\n",
       "      <th>5</th>\n",
       "      <td>6</td>\n",
       "      <td>Acero</td>\n",
       "      <td>Si</td>\n",
       "      <td>1519</td>\n",
       "    </tr>\n",
       "    <tr>\n",
       "      <th>6</th>\n",
       "      <td>7</td>\n",
       "      <td>Zinc</td>\n",
       "      <td>No</td>\n",
       "      <td>1310</td>\n",
       "    </tr>\n",
       "    <tr>\n",
       "      <th>7</th>\n",
       "      <td>8</td>\n",
       "      <td>Aluminio</td>\n",
       "      <td>Si</td>\n",
       "      <td>1187</td>\n",
       "    </tr>\n",
       "    <tr>\n",
       "      <th>8</th>\n",
       "      <td>9</td>\n",
       "      <td>Plomo</td>\n",
       "      <td>No</td>\n",
       "      <td>1510</td>\n",
       "    </tr>\n",
       "    <tr>\n",
       "      <th>9</th>\n",
       "      <td>10</td>\n",
       "      <td>Cobre</td>\n",
       "      <td>No</td>\n",
       "      <td>1106</td>\n",
       "    </tr>\n",
       "    <tr>\n",
       "      <th>10</th>\n",
       "      <td>11</td>\n",
       "      <td>Madera</td>\n",
       "      <td>No</td>\n",
       "      <td>1824</td>\n",
       "    </tr>\n",
       "    <tr>\n",
       "      <th>11</th>\n",
       "      <td>12</td>\n",
       "      <td>Caucho</td>\n",
       "      <td>No</td>\n",
       "      <td>1011</td>\n",
       "    </tr>\n",
       "    <tr>\n",
       "      <th>12</th>\n",
       "      <td>13</td>\n",
       "      <td>Linoleo</td>\n",
       "      <td>Si</td>\n",
       "      <td>2227</td>\n",
       "    </tr>\n",
       "    <tr>\n",
       "      <th>13</th>\n",
       "      <td>14</td>\n",
       "      <td>Bambu</td>\n",
       "      <td>Si</td>\n",
       "      <td>1986</td>\n",
       "    </tr>\n",
       "    <tr>\n",
       "      <th>14</th>\n",
       "      <td>15</td>\n",
       "      <td>Corcho</td>\n",
       "      <td>No</td>\n",
       "      <td>2480</td>\n",
       "    </tr>\n",
       "    <tr>\n",
       "      <th>15</th>\n",
       "      <td>16</td>\n",
       "      <td>Poliestireno</td>\n",
       "      <td>Si</td>\n",
       "      <td>2163</td>\n",
       "    </tr>\n",
       "    <tr>\n",
       "      <th>16</th>\n",
       "      <td>17</td>\n",
       "      <td>Silicona</td>\n",
       "      <td>Si</td>\n",
       "      <td>1193</td>\n",
       "    </tr>\n",
       "    <tr>\n",
       "      <th>17</th>\n",
       "      <td>18</td>\n",
       "      <td>Asfalto</td>\n",
       "      <td>No</td>\n",
       "      <td>1287</td>\n",
       "    </tr>\n",
       "    <tr>\n",
       "      <th>18</th>\n",
       "      <td>19</td>\n",
       "      <td>Acrilicos</td>\n",
       "      <td>Si</td>\n",
       "      <td>2156</td>\n",
       "    </tr>\n",
       "    <tr>\n",
       "      <th>19</th>\n",
       "      <td>20</td>\n",
       "      <td>Neopreno</td>\n",
       "      <td>No</td>\n",
       "      <td>1502</td>\n",
       "    </tr>\n",
       "    <tr>\n",
       "      <th>20</th>\n",
       "      <td>21</td>\n",
       "      <td>Pernos Tipo I</td>\n",
       "      <td>No</td>\n",
       "      <td>1193</td>\n",
       "    </tr>\n",
       "  </tbody>\n",
       "</table>\n",
       "</div>"
      ],
      "text/plain": [
       "    ID_MaterialConstruccion Nombre_Material Importado  Precio_Unidad\n",
       "0                         1         Granito        Si           1130\n",
       "1                         2          Marmol        No           2168\n",
       "2                         3         Cemento        Si           1278\n",
       "3                         4        Ladrillo        Si           1011\n",
       "4                         5          Vidrio        No           2339\n",
       "5                         6           Acero        Si           1519\n",
       "6                         7            Zinc        No           1310\n",
       "7                         8        Aluminio        Si           1187\n",
       "8                         9           Plomo        No           1510\n",
       "9                        10           Cobre        No           1106\n",
       "10                       11          Madera        No           1824\n",
       "11                       12          Caucho        No           1011\n",
       "12                       13         Linoleo        Si           2227\n",
       "13                       14           Bambu        Si           1986\n",
       "14                       15          Corcho        No           2480\n",
       "15                       16    Poliestireno        Si           2163\n",
       "16                       17        Silicona        Si           1193\n",
       "17                       18         Asfalto        No           1287\n",
       "18                       19       Acrilicos        Si           2156\n",
       "19                       20        Neopreno        No           1502\n",
       "20                       21   Pernos Tipo I        No           1193"
      ]
     },
     "execution_count": 60,
     "metadata": {},
     "output_type": "execute_result"
    }
   ],
   "source": [
    "df\n",
    "\n"
   ]
  },
  {
   "cell_type": "code",
   "execution_count": 45,
   "id": "83e8a0ee-33db-484f-b91a-99784c3dedf3",
   "metadata": {},
   "outputs": [],
   "source": [
    "conn.close()"
   ]
  }
 ],
 "metadata": {
  "kernelspec": {
   "display_name": "Python 3 (ipykernel)",
   "language": "python",
   "name": "python3"
  },
  "language_info": {
   "codemirror_mode": {
    "name": "ipython",
    "version": 3
   },
   "file_extension": ".py",
   "mimetype": "text/x-python",
   "name": "python",
   "nbconvert_exporter": "python",
   "pygments_lexer": "ipython3",
   "version": "3.12.1"
  }
 },
 "nbformat": 4,
 "nbformat_minor": 5
}
