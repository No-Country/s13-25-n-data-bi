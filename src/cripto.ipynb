{
  "cells": [
    {
      "cell_type": "markdown",
      "metadata": {
        "id": "0MBBCb2HMEod"
      },
      "source": [
        "# Contructora e Inversiones AR-CO S.A\n",
        "Este proyecto se basa en una constructora que obtiene su capital de las inversiones realizadas a las diferentes criptomonedas existentes mediante un programa que permite predecir el comportamiento de las cripto en determinados espacios de tiempo"
      ]
    },
    {
      "cell_type": "code",
      "execution_count": 1,
      "metadata": {
        "id": "SCHJfSVQLjud"
      },
      "outputs": [],
      "source": [
        "# Importamos las librerias necesarias\n",
        "import yfinance as yf\n",
        "import pandas as pd\n",
        "import matplotlib.pyplot as plt\n",
        "import seaborn as sns\n",
        "\n",
        "from sklearn.model_selection import train_test_split\n",
        "from sklearn.ensemble import RandomForestClassifier\n",
        "from sklearn.metrics import accuracy_score, classification_report\n",
        "from datetime import datetime, timedelta"
      ]
    },
    {
      "cell_type": "code",
      "execution_count": 2,
      "metadata": {
        "id": "ikXKL3YEOtbK"
      },
      "outputs": [],
      "source": [
        "# Lista de las criptos\n",
        "cryptos = ['BTC-USD', 'ETH-USD', 'XRP-USD', 'LTC-USD', 'BCH-USD', 'ADA-USD']\n",
        "        #  Bitcoinb  , Ethereum,   XRP    , Litecoin , Bitcoins cash, Cardano"
      ]
    },
    {
      "cell_type": "code",
      "execution_count": 3,
      "metadata": {
        "id": "YUq6CZ9dPkZo"
      },
      "outputs": [],
      "source": [
        "# Obtenemos el dato actual\n",
        "end_date = datetime.now().strftime(\"%Y-%m-%d\")"
      ]
    },
    {
      "cell_type": "code",
      "execution_count": 4,
      "metadata": {
        "id": "FVNK3Mh2P5Hk"
      },
      "outputs": [],
      "source": [
        "# Calculamos la fecha inicial para que siempre sean 4 años atras a partir de la fecha final\n",
        "start_date = (datetime.now() - timedelta(days=4*365)).strftime(\"%Y-%m-%d\")"
      ]
    },
    {
      "cell_type": "code",
      "execution_count": 5,
      "metadata": {
        "colab": {
          "base_uri": "https://localhost:8080/"
        },
        "id": "GlIe1tJjPPfO",
        "outputId": "f8604faf-ba2f-476e-faff-fd793cd00cd2"
      },
      "outputs": [
        {
          "name": "stderr",
          "output_type": "stream",
          "text": [
            "c:\\Users\\Jorge HN\\Desktop\\Proyectos reales\\Proyecto No Country DATA\\s13-25-n-data-bi\\env\\Lib\\site-packages\\yfinance\\utils.py:775: FutureWarning: The 'unit' keyword in TimedeltaIndex construction is deprecated and will be removed in a future version. Use pd.to_timedelta instead.\n",
            "  df.index += _pd.TimedeltaIndex(dst_error_hours, 'h')\n",
            "c:\\Users\\Jorge HN\\Desktop\\Proyectos reales\\Proyecto No Country DATA\\s13-25-n-data-bi\\env\\Lib\\site-packages\\yfinance\\utils.py:775: FutureWarning: The 'unit' keyword in TimedeltaIndex construction is deprecated and will be removed in a future version. Use pd.to_timedelta instead.\n",
            "  df.index += _pd.TimedeltaIndex(dst_error_hours, 'h')\n",
            "c:\\Users\\Jorge HN\\Desktop\\Proyectos reales\\Proyecto No Country DATA\\s13-25-n-data-bi\\env\\Lib\\site-packages\\yfinance\\utils.py:775: FutureWarning: The 'unit' keyword in TimedeltaIndex construction is deprecated and will be removed in a future version. Use pd.to_timedelta instead.\n",
            "  df.index += _pd.TimedeltaIndex(dst_error_hours, 'h')\n",
            "[                       0%%                      ]c:\\Users\\Jorge HN\\Desktop\\Proyectos reales\\Proyecto No Country DATA\\s13-25-n-data-bi\\env\\Lib\\site-packages\\yfinance\\utils.py:775: FutureWarning: The 'unit' keyword in TimedeltaIndex construction is deprecated and will be removed in a future version. Use pd.to_timedelta instead.\n",
            "  df.index += _pd.TimedeltaIndex(dst_error_hours, 'h')\n",
            "[****************      33%%                      ]  2 of 6 completedc:\\Users\\Jorge HN\\Desktop\\Proyectos reales\\Proyecto No Country DATA\\s13-25-n-data-bi\\env\\Lib\\site-packages\\yfinance\\utils.py:775: FutureWarning: The 'unit' keyword in TimedeltaIndex construction is deprecated and will be removed in a future version. Use pd.to_timedelta instead.\n",
            "  df.index += _pd.TimedeltaIndex(dst_error_hours, 'h')\n",
            "[**********************67%%******                ]  4 of 6 completedc:\\Users\\Jorge HN\\Desktop\\Proyectos reales\\Proyecto No Country DATA\\s13-25-n-data-bi\\env\\Lib\\site-packages\\yfinance\\utils.py:775: FutureWarning: The 'unit' keyword in TimedeltaIndex construction is deprecated and will be removed in a future version. Use pd.to_timedelta instead.\n",
            "  df.index += _pd.TimedeltaIndex(dst_error_hours, 'h')\n",
            "[*********************100%%**********************]  6 of 6 completed\n"
          ]
        }
      ],
      "source": [
        "# Descargamos la informacion y la guardamos en una variable\n",
        "data = yf.download(cryptos, start=start_date, end=end_date)[\"Adj Close\"]\n",
        "# Nota: Adj Close representa al valor de cierre ajustado la cual es una medida del rendimiento a largo plazo de un activo"
      ]
    },
    {
      "cell_type": "code",
      "execution_count": 6,
      "metadata": {
        "colab": {
          "base_uri": "https://localhost:8080/",
          "height": 455
        },
        "id": "r7oC31awQS3G",
        "outputId": "0f9dd01d-21ec-4820-80c5-a3344f7aae1f"
      },
      "outputs": [
        {
          "data": {
            "text/html": [
              "<div>\n",
              "<style scoped>\n",
              "    .dataframe tbody tr th:only-of-type {\n",
              "        vertical-align: middle;\n",
              "    }\n",
              "\n",
              "    .dataframe tbody tr th {\n",
              "        vertical-align: top;\n",
              "    }\n",
              "\n",
              "    .dataframe thead th {\n",
              "        text-align: right;\n",
              "    }\n",
              "</style>\n",
              "<table border=\"1\" class=\"dataframe\">\n",
              "  <thead>\n",
              "    <tr style=\"text-align: right;\">\n",
              "      <th>Ticker</th>\n",
              "      <th>ADA-USD</th>\n",
              "      <th>BCH-USD</th>\n",
              "      <th>BTC-USD</th>\n",
              "      <th>ETH-USD</th>\n",
              "      <th>LTC-USD</th>\n",
              "      <th>XRP-USD</th>\n",
              "    </tr>\n",
              "    <tr>\n",
              "      <th>Date</th>\n",
              "      <th></th>\n",
              "      <th></th>\n",
              "      <th></th>\n",
              "      <th></th>\n",
              "      <th></th>\n",
              "      <th></th>\n",
              "    </tr>\n",
              "  </thead>\n",
              "  <tbody>\n",
              "    <tr>\n",
              "      <th>2020-02-22</th>\n",
              "      <td>0.058336</td>\n",
              "      <td>373.833130</td>\n",
              "      <td>9663.181641</td>\n",
              "      <td>262.331726</td>\n",
              "      <td>75.133080</td>\n",
              "      <td>0.275901</td>\n",
              "    </tr>\n",
              "    <tr>\n",
              "      <th>2020-02-23</th>\n",
              "      <td>0.061510</td>\n",
              "      <td>401.635529</td>\n",
              "      <td>9924.515625</td>\n",
              "      <td>273.754150</td>\n",
              "      <td>79.536652</td>\n",
              "      <td>0.282711</td>\n",
              "    </tr>\n",
              "    <tr>\n",
              "      <th>2020-02-24</th>\n",
              "      <td>0.058960</td>\n",
              "      <td>377.578583</td>\n",
              "      <td>9650.174805</td>\n",
              "      <td>265.216431</td>\n",
              "      <td>75.535622</td>\n",
              "      <td>0.270627</td>\n",
              "    </tr>\n",
              "    <tr>\n",
              "      <th>2020-02-25</th>\n",
              "      <td>0.056364</td>\n",
              "      <td>353.977448</td>\n",
              "      <td>9341.705078</td>\n",
              "      <td>247.817596</td>\n",
              "      <td>71.180244</td>\n",
              "      <td>0.253412</td>\n",
              "    </tr>\n",
              "    <tr>\n",
              "      <th>2020-02-26</th>\n",
              "      <td>0.049453</td>\n",
              "      <td>316.644135</td>\n",
              "      <td>8820.522461</td>\n",
              "      <td>225.680267</td>\n",
              "      <td>61.014309</td>\n",
              "      <td>0.230851</td>\n",
              "    </tr>\n",
              "    <tr>\n",
              "      <th>...</th>\n",
              "      <td>...</td>\n",
              "      <td>...</td>\n",
              "      <td>...</td>\n",
              "      <td>...</td>\n",
              "      <td>...</td>\n",
              "      <td>...</td>\n",
              "    </tr>\n",
              "    <tr>\n",
              "      <th>2024-02-16</th>\n",
              "      <td>0.598872</td>\n",
              "      <td>274.819977</td>\n",
              "      <td>52160.203125</td>\n",
              "      <td>2803.691406</td>\n",
              "      <td>70.617165</td>\n",
              "      <td>0.564960</td>\n",
              "    </tr>\n",
              "    <tr>\n",
              "      <th>2024-02-17</th>\n",
              "      <td>0.608346</td>\n",
              "      <td>267.419952</td>\n",
              "      <td>51662.996094</td>\n",
              "      <td>2786.672607</td>\n",
              "      <td>69.989624</td>\n",
              "      <td>0.549886</td>\n",
              "    </tr>\n",
              "    <tr>\n",
              "      <th>2024-02-18</th>\n",
              "      <td>0.618734</td>\n",
              "      <td>270.416443</td>\n",
              "      <td>52122.546875</td>\n",
              "      <td>2878.998047</td>\n",
              "      <td>70.730247</td>\n",
              "      <td>0.556903</td>\n",
              "    </tr>\n",
              "    <tr>\n",
              "      <th>2024-02-19</th>\n",
              "      <td>0.631063</td>\n",
              "      <td>273.103455</td>\n",
              "      <td>51779.144531</td>\n",
              "      <td>2943.574707</td>\n",
              "      <td>71.312042</td>\n",
              "      <td>0.562597</td>\n",
              "    </tr>\n",
              "    <tr>\n",
              "      <th>2024-02-20</th>\n",
              "      <td>0.622165</td>\n",
              "      <td>265.465179</td>\n",
              "      <td>52284.875000</td>\n",
              "      <td>3013.503662</td>\n",
              "      <td>69.655167</td>\n",
              "      <td>0.562922</td>\n",
              "    </tr>\n",
              "  </tbody>\n",
              "</table>\n",
              "<p>1460 rows × 6 columns</p>\n",
              "</div>"
            ],
            "text/plain": [
              "Ticker       ADA-USD     BCH-USD       BTC-USD      ETH-USD    LTC-USD  \\\n",
              "Date                                                                     \n",
              "2020-02-22  0.058336  373.833130   9663.181641   262.331726  75.133080   \n",
              "2020-02-23  0.061510  401.635529   9924.515625   273.754150  79.536652   \n",
              "2020-02-24  0.058960  377.578583   9650.174805   265.216431  75.535622   \n",
              "2020-02-25  0.056364  353.977448   9341.705078   247.817596  71.180244   \n",
              "2020-02-26  0.049453  316.644135   8820.522461   225.680267  61.014309   \n",
              "...              ...         ...           ...          ...        ...   \n",
              "2024-02-16  0.598872  274.819977  52160.203125  2803.691406  70.617165   \n",
              "2024-02-17  0.608346  267.419952  51662.996094  2786.672607  69.989624   \n",
              "2024-02-18  0.618734  270.416443  52122.546875  2878.998047  70.730247   \n",
              "2024-02-19  0.631063  273.103455  51779.144531  2943.574707  71.312042   \n",
              "2024-02-20  0.622165  265.465179  52284.875000  3013.503662  69.655167   \n",
              "\n",
              "Ticker       XRP-USD  \n",
              "Date                  \n",
              "2020-02-22  0.275901  \n",
              "2020-02-23  0.282711  \n",
              "2020-02-24  0.270627  \n",
              "2020-02-25  0.253412  \n",
              "2020-02-26  0.230851  \n",
              "...              ...  \n",
              "2024-02-16  0.564960  \n",
              "2024-02-17  0.549886  \n",
              "2024-02-18  0.556903  \n",
              "2024-02-19  0.562597  \n",
              "2024-02-20  0.562922  \n",
              "\n",
              "[1460 rows x 6 columns]"
            ]
          },
          "execution_count": 6,
          "metadata": {},
          "output_type": "execute_result"
        }
      ],
      "source": [
        "data"
      ]
    },
    {
      "cell_type": "code",
      "execution_count": 7,
      "metadata": {
        "colab": {
          "base_uri": "https://localhost:8080/"
        },
        "id": "k0aY4JkERdgz",
        "outputId": "a22f2d23-46eb-4737-87fe-fe12d5a7c27b"
      },
      "outputs": [
        {
          "name": "stdout",
          "output_type": "stream",
          "text": [
            "<class 'pandas.core.frame.DataFrame'>\n",
            "DatetimeIndex: 1460 entries, 2020-02-22 to 2024-02-20\n",
            "Data columns (total 6 columns):\n",
            " #   Column   Non-Null Count  Dtype  \n",
            "---  ------   --------------  -----  \n",
            " 0   ADA-USD  1460 non-null   float64\n",
            " 1   BCH-USD  1460 non-null   float64\n",
            " 2   BTC-USD  1460 non-null   float64\n",
            " 3   ETH-USD  1460 non-null   float64\n",
            " 4   LTC-USD  1460 non-null   float64\n",
            " 5   XRP-USD  1460 non-null   float64\n",
            "dtypes: float64(6)\n",
            "memory usage: 79.8 KB\n"
          ]
        }
      ],
      "source": [
        "data.info()"
      ]
    },
    {
      "cell_type": "code",
      "execution_count": 8,
      "metadata": {
        "colab": {
          "base_uri": "https://localhost:8080/"
        },
        "id": "Ae1fZ3DyRrpY",
        "outputId": "16aad4ce-4bd5-4144-eb51-a5fa2c23bc1c"
      },
      "outputs": [
        {
          "data": {
            "text/plain": [
              "Ticker\n",
              "ADA-USD    0\n",
              "BCH-USD    0\n",
              "BTC-USD    0\n",
              "ETH-USD    0\n",
              "LTC-USD    0\n",
              "XRP-USD    0\n",
              "dtype: int64"
            ]
          },
          "execution_count": 8,
          "metadata": {},
          "output_type": "execute_result"
        }
      ],
      "source": [
        "# Miramos si hay datos nulos\n",
        "data.isnull().sum()"
      ]
    },
    {
      "cell_type": "code",
      "execution_count": 9,
      "metadata": {
        "id": "GEbJhcYMbYLa"
      },
      "outputs": [],
      "source": [
        "data = data.fillna(data.median())"
      ]
    },
    {
      "cell_type": "code",
      "execution_count": 10,
      "metadata": {
        "colab": {
          "base_uri": "https://localhost:8080/"
        },
        "id": "T38fZjsTbdTC",
        "outputId": "f74ed84a-7298-4ca3-d693-57eb3a077be7"
      },
      "outputs": [
        {
          "data": {
            "text/plain": [
              "Ticker\n",
              "ADA-USD    0\n",
              "BCH-USD    0\n",
              "BTC-USD    0\n",
              "ETH-USD    0\n",
              "LTC-USD    0\n",
              "XRP-USD    0\n",
              "dtype: int64"
            ]
          },
          "execution_count": 10,
          "metadata": {},
          "output_type": "execute_result"
        }
      ],
      "source": [
        "data.isnull().sum()"
      ]
    },
    {
      "cell_type": "code",
      "execution_count": 11,
      "metadata": {
        "colab": {
          "base_uri": "https://localhost:8080/",
          "height": 455
        },
        "id": "4GSfr6OHRReN",
        "outputId": "2b238d5d-12d7-4277-e045-46bcd6144787"
      },
      "outputs": [
        {
          "data": {
            "text/html": [
              "<div>\n",
              "<style scoped>\n",
              "    .dataframe tbody tr th:only-of-type {\n",
              "        vertical-align: middle;\n",
              "    }\n",
              "\n",
              "    .dataframe tbody tr th {\n",
              "        vertical-align: top;\n",
              "    }\n",
              "\n",
              "    .dataframe thead th {\n",
              "        text-align: right;\n",
              "    }\n",
              "</style>\n",
              "<table border=\"1\" class=\"dataframe\">\n",
              "  <thead>\n",
              "    <tr style=\"text-align: right;\">\n",
              "      <th>Ticker</th>\n",
              "      <th>ADA-USD</th>\n",
              "      <th>BCH-USD</th>\n",
              "      <th>BTC-USD</th>\n",
              "      <th>ETH-USD</th>\n",
              "      <th>LTC-USD</th>\n",
              "      <th>XRP-USD</th>\n",
              "    </tr>\n",
              "    <tr>\n",
              "      <th>Date</th>\n",
              "      <th></th>\n",
              "      <th></th>\n",
              "      <th></th>\n",
              "      <th></th>\n",
              "      <th></th>\n",
              "      <th></th>\n",
              "    </tr>\n",
              "  </thead>\n",
              "  <tbody>\n",
              "    <tr>\n",
              "      <th>2020-02-23</th>\n",
              "      <td>0.054409</td>\n",
              "      <td>0.074371</td>\n",
              "      <td>0.027044</td>\n",
              "      <td>0.043542</td>\n",
              "      <td>0.058610</td>\n",
              "      <td>0.024683</td>\n",
              "    </tr>\n",
              "    <tr>\n",
              "      <th>2020-02-24</th>\n",
              "      <td>-0.041457</td>\n",
              "      <td>-0.059897</td>\n",
              "      <td>-0.027643</td>\n",
              "      <td>-0.031188</td>\n",
              "      <td>-0.050304</td>\n",
              "      <td>-0.042743</td>\n",
              "    </tr>\n",
              "    <tr>\n",
              "      <th>2020-02-25</th>\n",
              "      <td>-0.044030</td>\n",
              "      <td>-0.062507</td>\n",
              "      <td>-0.031965</td>\n",
              "      <td>-0.065602</td>\n",
              "      <td>-0.057660</td>\n",
              "      <td>-0.063611</td>\n",
              "    </tr>\n",
              "    <tr>\n",
              "      <th>2020-02-26</th>\n",
              "      <td>-0.122614</td>\n",
              "      <td>-0.105468</td>\n",
              "      <td>-0.055791</td>\n",
              "      <td>-0.089329</td>\n",
              "      <td>-0.142820</td>\n",
              "      <td>-0.089029</td>\n",
              "    </tr>\n",
              "    <tr>\n",
              "      <th>2020-02-27</th>\n",
              "      <td>0.004691</td>\n",
              "      <td>0.020975</td>\n",
              "      <td>-0.004085</td>\n",
              "      <td>0.004755</td>\n",
              "      <td>0.008090</td>\n",
              "      <td>0.027139</td>\n",
              "    </tr>\n",
              "    <tr>\n",
              "      <th>...</th>\n",
              "      <td>...</td>\n",
              "      <td>...</td>\n",
              "      <td>...</td>\n",
              "      <td>...</td>\n",
              "      <td>...</td>\n",
              "      <td>...</td>\n",
              "    </tr>\n",
              "    <tr>\n",
              "      <th>2024-02-16</th>\n",
              "      <td>-0.015601</td>\n",
              "      <td>0.015348</td>\n",
              "      <td>0.004268</td>\n",
              "      <td>-0.007325</td>\n",
              "      <td>0.011541</td>\n",
              "      <td>0.003918</td>\n",
              "    </tr>\n",
              "    <tr>\n",
              "      <th>2024-02-17</th>\n",
              "      <td>0.015820</td>\n",
              "      <td>-0.026927</td>\n",
              "      <td>-0.009532</td>\n",
              "      <td>-0.006070</td>\n",
              "      <td>-0.008887</td>\n",
              "      <td>-0.026682</td>\n",
              "    </tr>\n",
              "    <tr>\n",
              "      <th>2024-02-18</th>\n",
              "      <td>0.017076</td>\n",
              "      <td>0.011205</td>\n",
              "      <td>0.008895</td>\n",
              "      <td>0.033131</td>\n",
              "      <td>0.010582</td>\n",
              "      <td>0.012761</td>\n",
              "    </tr>\n",
              "    <tr>\n",
              "      <th>2024-02-19</th>\n",
              "      <td>0.019926</td>\n",
              "      <td>0.009937</td>\n",
              "      <td>-0.006588</td>\n",
              "      <td>0.022430</td>\n",
              "      <td>0.008226</td>\n",
              "      <td>0.010224</td>\n",
              "    </tr>\n",
              "    <tr>\n",
              "      <th>2024-02-20</th>\n",
              "      <td>-0.014100</td>\n",
              "      <td>-0.027968</td>\n",
              "      <td>0.009767</td>\n",
              "      <td>0.023756</td>\n",
              "      <td>-0.023234</td>\n",
              "      <td>0.000578</td>\n",
              "    </tr>\n",
              "  </tbody>\n",
              "</table>\n",
              "<p>1459 rows × 6 columns</p>\n",
              "</div>"
            ],
            "text/plain": [
              "Ticker       ADA-USD   BCH-USD   BTC-USD   ETH-USD   LTC-USD   XRP-USD\n",
              "Date                                                                  \n",
              "2020-02-23  0.054409  0.074371  0.027044  0.043542  0.058610  0.024683\n",
              "2020-02-24 -0.041457 -0.059897 -0.027643 -0.031188 -0.050304 -0.042743\n",
              "2020-02-25 -0.044030 -0.062507 -0.031965 -0.065602 -0.057660 -0.063611\n",
              "2020-02-26 -0.122614 -0.105468 -0.055791 -0.089329 -0.142820 -0.089029\n",
              "2020-02-27  0.004691  0.020975 -0.004085  0.004755  0.008090  0.027139\n",
              "...              ...       ...       ...       ...       ...       ...\n",
              "2024-02-16 -0.015601  0.015348  0.004268 -0.007325  0.011541  0.003918\n",
              "2024-02-17  0.015820 -0.026927 -0.009532 -0.006070 -0.008887 -0.026682\n",
              "2024-02-18  0.017076  0.011205  0.008895  0.033131  0.010582  0.012761\n",
              "2024-02-19  0.019926  0.009937 -0.006588  0.022430  0.008226  0.010224\n",
              "2024-02-20 -0.014100 -0.027968  0.009767  0.023756 -0.023234  0.000578\n",
              "\n",
              "[1459 rows x 6 columns]"
            ]
          },
          "execution_count": 11,
          "metadata": {},
          "output_type": "execute_result"
        }
      ],
      "source": [
        "# Hallamos los rendimientos diarios\n",
        "returns = data.pct_change().dropna()\n",
        "returns"
      ]
    },
    {
      "cell_type": "markdown",
      "metadata": {
        "id": "ApH72kGGTVlx"
      },
      "source": [
        "## Graficas"
      ]
    },
    {
      "cell_type": "markdown",
      "metadata": {
        "id": "i2X1GKpjTaJ-"
      },
      "source": [
        "### Grafica de precios historicos"
      ]
    },
    {
      "cell_type": "code",
      "execution_count": 12,
      "metadata": {
        "colab": {
          "base_uri": "https://localhost:8080/",
          "height": 565
        },
        "id": "1y4YkSvwTc-T",
        "outputId": "4a286596-0e12-4551-937e-4e889647f279"
      },
      "outputs": [
        {
          "data": {
            "image/png": "[encoded data removed]",
            "text/plain": [
              "<Figure size 1200x600 with 1 Axes>"
            ]
          },
          "metadata": {},
          "output_type": "display_data"
        }
      ],
      "source": [
        "plt.figure(figsize=(12, 6))\n",
        "for crypto in cryptos:\n",
        "    plt.plot(data.index, data[crypto], label=crypto)\n",
        "plt.title('Precios Históricos de Criptomonedas')\n",
        "plt.xlabel('Fecha')\n",
        "plt.ylabel('Precio de Cierre Ajustado')\n",
        "plt.legend()\n",
        "plt.show()"
      ]
    },
    {
      "cell_type": "code",
      "execution_count": 13,
      "metadata": {
        "colab": {
          "base_uri": "https://localhost:8080/",
          "height": 732
        },
        "id": "lhW3eteRUfd5",
        "outputId": "fb523ff2-4310-454c-a100-bc8b7a725cf1"
      },
      "outputs": [
        {
          "data": {
            "image/png": "[encoded data removed]",
            "text/plain": [
              "<Figure size 1200x800 with 6 Axes>"
            ]
          },
          "metadata": {},
          "output_type": "display_data"
        }
      ],
      "source": [
        "returns.hist(bins=50, figsize=(12, 8), alpha=0.5)\n",
        "plt.suptitle('Histograma de Rendimientos de Criptomonedas', y=0.95)\n",
        "plt.show()"
      ]
    },
    {
      "cell_type": "markdown",
      "metadata": {
        "id": "NQ1tLo4ZUYAL"
      },
      "source": [
        "## ML"
      ]
    },
    {
      "cell_type": "code",
      "execution_count": 14,
      "metadata": {
        "id": "V11mv6v-URhA"
      },
      "outputs": [],
      "source": [
        "# Creamos una columna target para cada criptomoneda ya que haremos una clasificacion binaria\n",
        "for crypto in cryptos:\n",
        "    returns[f'{crypto}_Target'] = (returns[crypto] > 0).astype(int)"
      ]
    },
    {
      "cell_type": "code",
      "execution_count": 15,
      "metadata": {
        "colab": {
          "base_uri": "https://localhost:8080/",
          "height": 646
        },
        "id": "txfGX5L3UTNe",
        "outputId": "c2141612-c2e3-4912-b7b0-c6456cfa4e96"
      },
      "outputs": [
        {
          "data": {
            "text/html": [
              "<div>\n",
              "<style scoped>\n",
              "    .dataframe tbody tr th:only-of-type {\n",
              "        vertical-align: middle;\n",
              "    }\n",
              "\n",
              "    .dataframe tbody tr th {\n",
              "        vertical-align: top;\n",
              "    }\n",
              "\n",
              "    .dataframe thead th {\n",
              "        text-align: right;\n",
              "    }\n",
              "</style>\n",
              "<table border=\"1\" class=\"dataframe\">\n",
              "  <thead>\n",
              "    <tr style=\"text-align: right;\">\n",
              "      <th>Ticker</th>\n",
              "      <th>ADA-USD</th>\n",
              "      <th>BCH-USD</th>\n",
              "      <th>BTC-USD</th>\n",
              "      <th>ETH-USD</th>\n",
              "      <th>LTC-USD</th>\n",
              "      <th>XRP-USD</th>\n",
              "      <th>BTC-USD_Target</th>\n",
              "      <th>ETH-USD_Target</th>\n",
              "      <th>XRP-USD_Target</th>\n",
              "      <th>LTC-USD_Target</th>\n",
              "      <th>BCH-USD_Target</th>\n",
              "      <th>ADA-USD_Target</th>\n",
              "    </tr>\n",
              "    <tr>\n",
              "      <th>Date</th>\n",
              "      <th></th>\n",
              "      <th></th>\n",
              "      <th></th>\n",
              "      <th></th>\n",
              "      <th></th>\n",
              "      <th></th>\n",
              "      <th></th>\n",
              "      <th></th>\n",
              "      <th></th>\n",
              "      <th></th>\n",
              "      <th></th>\n",
              "      <th></th>\n",
              "    </tr>\n",
              "  </thead>\n",
              "  <tbody>\n",
              "    <tr>\n",
              "      <th>2020-02-23</th>\n",
              "      <td>0.054409</td>\n",
              "      <td>0.074371</td>\n",
              "      <td>0.027044</td>\n",
              "      <td>0.043542</td>\n",
              "      <td>0.058610</td>\n",
              "      <td>0.024683</td>\n",
              "      <td>1</td>\n",
              "      <td>1</td>\n",
              "      <td>1</td>\n",
              "      <td>1</td>\n",
              "      <td>1</td>\n",
              "      <td>1</td>\n",
              "    </tr>\n",
              "    <tr>\n",
              "      <th>2020-02-24</th>\n",
              "      <td>-0.041457</td>\n",
              "      <td>-0.059897</td>\n",
              "      <td>-0.027643</td>\n",
              "      <td>-0.031188</td>\n",
              "      <td>-0.050304</td>\n",
              "      <td>-0.042743</td>\n",
              "      <td>0</td>\n",
              "      <td>0</td>\n",
              "      <td>0</td>\n",
              "      <td>0</td>\n",
              "      <td>0</td>\n",
              "      <td>0</td>\n",
              "    </tr>\n",
              "    <tr>\n",
              "      <th>2020-02-25</th>\n",
              "      <td>-0.044030</td>\n",
              "      <td>-0.062507</td>\n",
              "      <td>-0.031965</td>\n",
              "      <td>-0.065602</td>\n",
              "      <td>-0.057660</td>\n",
              "      <td>-0.063611</td>\n",
              "      <td>0</td>\n",
              "      <td>0</td>\n",
              "      <td>0</td>\n",
              "      <td>0</td>\n",
              "      <td>0</td>\n",
              "      <td>0</td>\n",
              "    </tr>\n",
              "    <tr>\n",
              "      <th>2020-02-26</th>\n",
              "      <td>-0.122614</td>\n",
              "      <td>-0.105468</td>\n",
              "      <td>-0.055791</td>\n",
              "      <td>-0.089329</td>\n",
              "      <td>-0.142820</td>\n",
              "      <td>-0.089029</td>\n",
              "      <td>0</td>\n",
              "      <td>0</td>\n",
              "      <td>0</td>\n",
              "      <td>0</td>\n",
              "      <td>0</td>\n",
              "      <td>0</td>\n",
              "    </tr>\n",
              "    <tr>\n",
              "      <th>2020-02-27</th>\n",
              "      <td>0.004691</td>\n",
              "      <td>0.020975</td>\n",
              "      <td>-0.004085</td>\n",
              "      <td>0.004755</td>\n",
              "      <td>0.008090</td>\n",
              "      <td>0.027139</td>\n",
              "      <td>0</td>\n",
              "      <td>1</td>\n",
              "      <td>1</td>\n",
              "      <td>1</td>\n",
              "      <td>1</td>\n",
              "      <td>1</td>\n",
              "    </tr>\n",
              "    <tr>\n",
              "      <th>...</th>\n",
              "      <td>...</td>\n",
              "      <td>...</td>\n",
              "      <td>...</td>\n",
              "      <td>...</td>\n",
              "      <td>...</td>\n",
              "      <td>...</td>\n",
              "      <td>...</td>\n",
              "      <td>...</td>\n",
              "      <td>...</td>\n",
              "      <td>...</td>\n",
              "      <td>...</td>\n",
              "      <td>...</td>\n",
              "    </tr>\n",
              "    <tr>\n",
              "      <th>2024-02-16</th>\n",
              "      <td>-0.015601</td>\n",
              "      <td>0.015348</td>\n",
              "      <td>0.004268</td>\n",
              "      <td>-0.007325</td>\n",
              "      <td>0.011541</td>\n",
              "      <td>0.003918</td>\n",
              "      <td>1</td>\n",
              "      <td>0</td>\n",
              "      <td>1</td>\n",
              "      <td>1</td>\n",
              "      <td>1</td>\n",
              "      <td>0</td>\n",
              "    </tr>\n",
              "    <tr>\n",
              "      <th>2024-02-17</th>\n",
              "      <td>0.015820</td>\n",
              "      <td>-0.026927</td>\n",
              "      <td>-0.009532</td>\n",
              "      <td>-0.006070</td>\n",
              "      <td>-0.008887</td>\n",
              "      <td>-0.026682</td>\n",
              "      <td>0</td>\n",
              "      <td>0</td>\n",
              "      <td>0</td>\n",
              "      <td>0</td>\n",
              "      <td>0</td>\n",
              "      <td>1</td>\n",
              "    </tr>\n",
              "    <tr>\n",
              "      <th>2024-02-18</th>\n",
              "      <td>0.017076</td>\n",
              "      <td>0.011205</td>\n",
              "      <td>0.008895</td>\n",
              "      <td>0.033131</td>\n",
              "      <td>0.010582</td>\n",
              "      <td>0.012761</td>\n",
              "      <td>1</td>\n",
              "      <td>1</td>\n",
              "      <td>1</td>\n",
              "      <td>1</td>\n",
              "      <td>1</td>\n",
              "      <td>1</td>\n",
              "    </tr>\n",
              "    <tr>\n",
              "      <th>2024-02-19</th>\n",
              "      <td>0.019926</td>\n",
              "      <td>0.009937</td>\n",
              "      <td>-0.006588</td>\n",
              "      <td>0.022430</td>\n",
              "      <td>0.008226</td>\n",
              "      <td>0.010224</td>\n",
              "      <td>0</td>\n",
              "      <td>1</td>\n",
              "      <td>1</td>\n",
              "      <td>1</td>\n",
              "      <td>1</td>\n",
              "      <td>1</td>\n",
              "    </tr>\n",
              "    <tr>\n",
              "      <th>2024-02-20</th>\n",
              "      <td>-0.014100</td>\n",
              "      <td>-0.027968</td>\n",
              "      <td>0.009767</td>\n",
              "      <td>0.023756</td>\n",
              "      <td>-0.023234</td>\n",
              "      <td>0.000578</td>\n",
              "      <td>1</td>\n",
              "      <td>1</td>\n",
              "      <td>1</td>\n",
              "      <td>0</td>\n",
              "      <td>0</td>\n",
              "      <td>0</td>\n",
              "    </tr>\n",
              "  </tbody>\n",
              "</table>\n",
              "<p>1459 rows × 12 columns</p>\n",
              "</div>"
            ],
            "text/plain": [
              "Ticker       ADA-USD   BCH-USD   BTC-USD   ETH-USD   LTC-USD   XRP-USD  \\\n",
              "Date                                                                     \n",
              "2020-02-23  0.054409  0.074371  0.027044  0.043542  0.058610  0.024683   \n",
              "2020-02-24 -0.041457 -0.059897 -0.027643 -0.031188 -0.050304 -0.042743   \n",
              "2020-02-25 -0.044030 -0.062507 -0.031965 -0.065602 -0.057660 -0.063611   \n",
              "2020-02-26 -0.122614 -0.105468 -0.055791 -0.089329 -0.142820 -0.089029   \n",
              "2020-02-27  0.004691  0.020975 -0.004085  0.004755  0.008090  0.027139   \n",
              "...              ...       ...       ...       ...       ...       ...   \n",
              "2024-02-16 -0.015601  0.015348  0.004268 -0.007325  0.011541  0.003918   \n",
              "2024-02-17  0.015820 -0.026927 -0.009532 -0.006070 -0.008887 -0.026682   \n",
              "2024-02-18  0.017076  0.011205  0.008895  0.033131  0.010582  0.012761   \n",
              "2024-02-19  0.019926  0.009937 -0.006588  0.022430  0.008226  0.010224   \n",
              "2024-02-20 -0.014100 -0.027968  0.009767  0.023756 -0.023234  0.000578   \n",
              "\n",
              "Ticker      BTC-USD_Target  ETH-USD_Target  XRP-USD_Target  LTC-USD_Target  \\\n",
              "Date                                                                         \n",
              "2020-02-23               1               1               1               1   \n",
              "2020-02-24               0               0               0               0   \n",
              "2020-02-25               0               0               0               0   \n",
              "2020-02-26               0               0               0               0   \n",
              "2020-02-27               0               1               1               1   \n",
              "...                    ...             ...             ...             ...   \n",
              "2024-02-16               1               0               1               1   \n",
              "2024-02-17               0               0               0               0   \n",
              "2024-02-18               1               1               1               1   \n",
              "2024-02-19               0               1               1               1   \n",
              "2024-02-20               1               1               1               0   \n",
              "\n",
              "Ticker      BCH-USD_Target  ADA-USD_Target  \n",
              "Date                                        \n",
              "2020-02-23               1               1  \n",
              "2020-02-24               0               0  \n",
              "2020-02-25               0               0  \n",
              "2020-02-26               0               0  \n",
              "2020-02-27               1               1  \n",
              "...                    ...             ...  \n",
              "2024-02-16               1               0  \n",
              "2024-02-17               0               1  \n",
              "2024-02-18               1               1  \n",
              "2024-02-19               1               1  \n",
              "2024-02-20               0               0  \n",
              "\n",
              "[1459 rows x 12 columns]"
            ]
          },
          "execution_count": 15,
          "metadata": {},
          "output_type": "execute_result"
        }
      ],
      "source": [
        "returns"
      ]
    },
    {
      "cell_type": "code",
      "execution_count": 16,
      "metadata": {
        "colab": {
          "base_uri": "https://localhost:8080/"
        },
        "id": "WP7CgW4MUUCt",
        "outputId": "c21f2260-2204-4380-915d-318e6e38200c"
      },
      "outputs": [
        {
          "data": {
            "text/plain": [
              "Ticker\n",
              "ADA-USD           0\n",
              "BCH-USD           0\n",
              "BTC-USD           0\n",
              "ETH-USD           0\n",
              "LTC-USD           0\n",
              "XRP-USD           0\n",
              "BTC-USD_Target    0\n",
              "ETH-USD_Target    0\n",
              "XRP-USD_Target    0\n",
              "LTC-USD_Target    0\n",
              "BCH-USD_Target    0\n",
              "ADA-USD_Target    0\n",
              "dtype: int64"
            ]
          },
          "execution_count": 16,
          "metadata": {},
          "output_type": "execute_result"
        }
      ],
      "source": [
        "# Revisamos si hay datos nulos\n",
        "returns.isnull().sum()"
      ]
    },
    {
      "cell_type": "code",
      "execution_count": 17,
      "metadata": {
        "id": "ZtnipQAsU_6o"
      },
      "outputs": [],
      "source": [
        "# Dividimos los datos para tomar los de entrenamiento y los de prueba\n",
        "X_train, X_test, y_train, y_test = train_test_split(returns.drop(columns=[f'{crypto}_Target' for crypto in cryptos]),\n",
        "                                                    returns[[f'{crypto}_Target' for crypto in cryptos]],\n",
        "                                                    test_size=0.2, random_state=42)"
      ]
    },
    {
      "cell_type": "code",
      "execution_count": 18,
      "metadata": {
        "colab": {
          "base_uri": "https://localhost:8080/",
          "height": 74
        },
        "id": "Rp0uBDLlVI6t",
        "outputId": "277d71fc-173d-41f2-a611-38b136ef62f4"
      },
      "outputs": [
        {
          "data": {
            "text/html": [
              "<style>#sk-container-id-1 {\n",
              "  /* Definition of color scheme common for light and dark mode */\n",
              "  --sklearn-color-text: black;\n",
              "  --sklearn-color-line: gray;\n",
              "  /* Definition of color scheme for unfitted estimators */\n",
              "  --sklearn-color-unfitted-level-0: #fff5e6;\n",
              "  --sklearn-color-unfitted-level-1: #f6e4d2;\n",
              "  --sklearn-color-unfitted-level-2: #ffe0b3;\n",
              "  --sklearn-color-unfitted-level-3: chocolate;\n",
              "  /* Definition of color scheme for fitted estimators */\n",
              "  --sklearn-color-fitted-level-0: #f0f8ff;\n",
              "  --sklearn-color-fitted-level-1: #d4ebff;\n",
              "  --sklearn-color-fitted-level-2: #b3dbfd;\n",
              "  --sklearn-color-fitted-level-3: cornflowerblue;\n",
              "\n",
              "  /* Specific color for light theme */\n",
              "  --sklearn-color-text-on-default-background: var(--sg-text-color, var(--theme-code-foreground, var(--jp-content-font-color1, black)));\n",
              "  --sklearn-color-background: var(--sg-background-color, var(--theme-background, var(--jp-layout-color0, white)));\n",
              "  --sklearn-color-border-box: var(--sg-text-color, var(--theme-code-foreground, var(--jp-content-font-color1, black)));\n",
              "  --sklearn-color-icon: #696969;\n",
              "\n",
              "  @media (prefers-color-scheme: dark) {\n",
              "    /* Redefinition of color scheme for dark theme */\n",
              "    --sklearn-color-text-on-default-background: var(--sg-text-color, var(--theme-code-foreground, var(--jp-content-font-color1, white)));\n",
              "    --sklearn-color-background: var(--sg-background-color, var(--theme-background, var(--jp-layout-color0, #111)));\n",
              "    --sklearn-color-border-box: var(--sg-text-color, var(--theme-code-foreground, var(--jp-content-font-color1, white)));\n",
              "    --sklearn-color-icon: #878787;\n",
              "  }\n",
              "}\n",
              "\n",
              "#sk-container-id-1 {\n",
              "  color: var(--sklearn-color-text);\n",
              "}\n",
              "\n",
              "#sk-container-id-1 pre {\n",
              "  padding: 0;\n",
              "}\n",
              "\n",
              "#sk-container-id-1 input.sk-hidden--visually {\n",
              "  border: 0;\n",
              "  clip: rect(1px 1px 1px 1px);\n",
              "  clip: rect(1px, 1px, 1px, 1px);\n",
              "  height: 1px;\n",
              "  margin: -1px;\n",
              "  overflow: hidden;\n",
              "  padding: 0;\n",
              "  position: absolute;\n",
              "  width: 1px;\n",
              "}\n",
              "\n",
              "#sk-container-id-1 div.sk-dashed-wrapped {\n",
              "  border: 1px dashed var(--sklearn-color-line);\n",
              "  margin: 0 0.4em 0.5em 0.4em;\n",
              "  box-sizing: border-box;\n",
              "  padding-bottom: 0.4em;\n",
              "  background-color: var(--sklearn-color-background);\n",
              "}\n",
              "\n",
              "#sk-container-id-1 div.sk-container {\n",
              "  /* jupyter's `normalize.less` sets `[hidden] { display: none; }`\n",
              "     but bootstrap.min.css set `[hidden] { display: none !important; }`\n",
              "     so we also need the `!important` here to be able to override the\n",
              "     default hidden behavior on the sphinx rendered scikit-learn.org.\n",
              "     See: https://github.com/scikit-learn/scikit-learn/issues/21755 */\n",
              "  display: inline-block !important;\n",
              "  position: relative;\n",
              "}\n",
              "\n",
              "#sk-container-id-1 div.sk-text-repr-fallback {\n",
              "  display: none;\n",
              "}\n",
              "\n",
              "div.sk-parallel-item,\n",
              "div.sk-serial,\n",
              "div.sk-item {\n",
              "  /* draw centered vertical line to link estimators */\n",
              "  background-image: linear-gradient(var(--sklearn-color-text-on-default-background), var(--sklearn-color-text-on-default-background));\n",
              "  background-size: 2px 100%;\n",
              "  background-repeat: no-repeat;\n",
              "  background-position: center center;\n",
              "}\n",
              "\n",
              "/* Parallel-specific style estimator block */\n",
              "\n",
              "#sk-container-id-1 div.sk-parallel-item::after {\n",
              "  content: \"\";\n",
              "  width: 100%;\n",
              "  border-bottom: 2px solid var(--sklearn-color-text-on-default-background);\n",
              "  flex-grow: 1;\n",
              "}\n",
              "\n",
              "#sk-container-id-1 div.sk-parallel {\n",
              "  display: flex;\n",
              "  align-items: stretch;\n",
              "  justify-content: center;\n",
              "  background-color: var(--sklearn-color-background);\n",
              "  position: relative;\n",
              "}\n",
              "\n",
              "#sk-container-id-1 div.sk-parallel-item {\n",
              "  display: flex;\n",
              "  flex-direction: column;\n",
              "}\n",
              "\n",
              "#sk-container-id-1 div.sk-parallel-item:first-child::after {\n",
              "  align-self: flex-end;\n",
              "  width: 50%;\n",
              "}\n",
              "\n",
              "#sk-container-id-1 div.sk-parallel-item:last-child::after {\n",
              "  align-self: flex-start;\n",
              "  width: 50%;\n",
              "}\n",
              "\n",
              "#sk-container-id-1 div.sk-parallel-item:only-child::after {\n",
              "  width: 0;\n",
              "}\n",
              "\n",
              "/* Serial-specific style estimator block */\n",
              "\n",
              "#sk-container-id-1 div.sk-serial {\n",
              "  display: flex;\n",
              "  flex-direction: column;\n",
              "  align-items: center;\n",
              "  background-color: var(--sklearn-color-background);\n",
              "  padding-right: 1em;\n",
              "  padding-left: 1em;\n",
              "}\n",
              "\n",
              "\n",
              "/* Toggleable style: style used for estimator/Pipeline/ColumnTransformer box that is\n",
              "clickable and can be expanded/collapsed.\n",
              "- Pipeline and ColumnTransformer use this feature and define the default style\n",
              "- Estimators will overwrite some part of the style using the `sk-estimator` class\n",
              "*/\n",
              "\n",
              "/* Pipeline and ColumnTransformer style (default) */\n",
              "\n",
              "#sk-container-id-1 div.sk-toggleable {\n",
              "  /* Default theme specific background. It is overwritten whether we have a\n",
              "  specific estimator or a Pipeline/ColumnTransformer */\n",
              "  background-color: var(--sklearn-color-background);\n",
              "}\n",
              "\n",
              "/* Toggleable label */\n",
              "#sk-container-id-1 label.sk-toggleable__label {\n",
              "  cursor: pointer;\n",
              "  display: block;\n",
              "  width: 100%;\n",
              "  margin-bottom: 0;\n",
              "  padding: 0.5em;\n",
              "  box-sizing: border-box;\n",
              "  text-align: center;\n",
              "}\n",
              "\n",
              "#sk-container-id-1 label.sk-toggleable__label-arrow:before {\n",
              "  /* Arrow on the left of the label */\n",
              "  content: \"▸\";\n",
              "  float: left;\n",
              "  margin-right: 0.25em;\n",
              "  color: var(--sklearn-color-icon);\n",
              "}\n",
              "\n",
              "#sk-container-id-1 label.sk-toggleable__label-arrow:hover:before {\n",
              "  color: var(--sklearn-color-text);\n",
              "}\n",
              "\n",
              "/* Toggleable content - dropdown */\n",
              "\n",
              "#sk-container-id-1 div.sk-toggleable__content {\n",
              "  max-height: 0;\n",
              "  max-width: 0;\n",
              "  overflow: hidden;\n",
              "  text-align: left;\n",
              "  /* unfitted */\n",
              "  background-color: var(--sklearn-color-unfitted-level-0);\n",
              "}\n",
              "\n",
              "#sk-container-id-1 div.sk-toggleable__content.fitted {\n",
              "  /* fitted */\n",
              "  background-color: var(--sklearn-color-fitted-level-0);\n",
              "}\n",
              "\n",
              "#sk-container-id-1 div.sk-toggleable__content pre {\n",
              "  margin: 0.2em;\n",
              "  border-radius: 0.25em;\n",
              "  color: var(--sklearn-color-text);\n",
              "  /* unfitted */\n",
              "  background-color: var(--sklearn-color-unfitted-level-0);\n",
              "}\n",
              "\n",
              "#sk-container-id-1 div.sk-toggleable__content.fitted pre {\n",
              "  /* unfitted */\n",
              "  background-color: var(--sklearn-color-fitted-level-0);\n",
              "}\n",
              "\n",
              "#sk-container-id-1 input.sk-toggleable__control:checked~div.sk-toggleable__content {\n",
              "  /* Expand drop-down */\n",
              "  max-height: 200px;\n",
              "  max-width: 100%;\n",
              "  overflow: auto;\n",
              "}\n",
              "\n",
              "#sk-container-id-1 input.sk-toggleable__control:checked~label.sk-toggleable__label-arrow:before {\n",
              "  content: \"▾\";\n",
              "}\n",
              "\n",
              "/* Pipeline/ColumnTransformer-specific style */\n",
              "\n",
              "#sk-container-id-1 div.sk-label input.sk-toggleable__control:checked~label.sk-toggleable__label {\n",
              "  color: var(--sklearn-color-text);\n",
              "  background-color: var(--sklearn-color-unfitted-level-2);\n",
              "}\n",
              "\n",
              "#sk-container-id-1 div.sk-label.fitted input.sk-toggleable__control:checked~label.sk-toggleable__label {\n",
              "  background-color: var(--sklearn-color-fitted-level-2);\n",
              "}\n",
              "\n",
              "/* Estimator-specific style */\n",
              "\n",
              "/* Colorize estimator box */\n",
              "#sk-container-id-1 div.sk-estimator input.sk-toggleable__control:checked~label.sk-toggleable__label {\n",
              "  /* unfitted */\n",
              "  background-color: var(--sklearn-color-unfitted-level-2);\n",
              "}\n",
              "\n",
              "#sk-container-id-1 div.sk-estimator.fitted input.sk-toggleable__control:checked~label.sk-toggleable__label {\n",
              "  /* fitted */\n",
              "  background-color: var(--sklearn-color-fitted-level-2);\n",
              "}\n",
              "\n",
              "#sk-container-id-1 div.sk-label label.sk-toggleable__label,\n",
              "#sk-container-id-1 div.sk-label label {\n",
              "  /* The background is the default theme color */\n",
              "  color: var(--sklearn-color-text-on-default-background);\n",
              "}\n",
              "\n",
              "/* On hover, darken the color of the background */\n",
              "#sk-container-id-1 div.sk-label:hover label.sk-toggleable__label {\n",
              "  color: var(--sklearn-color-text);\n",
              "  background-color: var(--sklearn-color-unfitted-level-2);\n",
              "}\n",
              "\n",
              "/* Label box, darken color on hover, fitted */\n",
              "#sk-container-id-1 div.sk-label.fitted:hover label.sk-toggleable__label.fitted {\n",
              "  color: var(--sklearn-color-text);\n",
              "  background-color: var(--sklearn-color-fitted-level-2);\n",
              "}\n",
              "\n",
              "/* Estimator label */\n",
              "\n",
              "#sk-container-id-1 div.sk-label label {\n",
              "  font-family: monospace;\n",
              "  font-weight: bold;\n",
              "  display: inline-block;\n",
              "  line-height: 1.2em;\n",
              "}\n",
              "\n",
              "#sk-container-id-1 div.sk-label-container {\n",
              "  text-align: center;\n",
              "}\n",
              "\n",
              "/* Estimator-specific */\n",
              "#sk-container-id-1 div.sk-estimator {\n",
              "  font-family: monospace;\n",
              "  border: 1px dotted var(--sklearn-color-border-box);\n",
              "  border-radius: 0.25em;\n",
              "  box-sizing: border-box;\n",
              "  margin-bottom: 0.5em;\n",
              "  /* unfitted */\n",
              "  background-color: var(--sklearn-color-unfitted-level-0);\n",
              "}\n",
              "\n",
              "#sk-container-id-1 div.sk-estimator.fitted {\n",
              "  /* fitted */\n",
              "  background-color: var(--sklearn-color-fitted-level-0);\n",
              "}\n",
              "\n",
              "/* on hover */\n",
              "#sk-container-id-1 div.sk-estimator:hover {\n",
              "  /* unfitted */\n",
              "  background-color: var(--sklearn-color-unfitted-level-2);\n",
              "}\n",
              "\n",
              "#sk-container-id-1 div.sk-estimator.fitted:hover {\n",
              "  /* fitted */\n",
              "  background-color: var(--sklearn-color-fitted-level-2);\n",
              "}\n",
              "\n",
              "/* Specification for estimator info (e.g. \"i\" and \"?\") */\n",
              "\n",
              "/* Common style for \"i\" and \"?\" */\n",
              "\n",
              ".sk-estimator-doc-link,\n",
              "a:link.sk-estimator-doc-link,\n",
              "a:visited.sk-estimator-doc-link {\n",
              "  float: right;\n",
              "  font-size: smaller;\n",
              "  line-height: 1em;\n",
              "  font-family: monospace;\n",
              "  background-color: var(--sklearn-color-background);\n",
              "  border-radius: 1em;\n",
              "  height: 1em;\n",
              "  width: 1em;\n",
              "  text-decoration: none !important;\n",
              "  margin-left: 1ex;\n",
              "  /* unfitted */\n",
              "  border: var(--sklearn-color-unfitted-level-1) 1pt solid;\n",
              "  color: var(--sklearn-color-unfitted-level-1);\n",
              "}\n",
              "\n",
              ".sk-estimator-doc-link.fitted,\n",
              "a:link.sk-estimator-doc-link.fitted,\n",
              "a:visited.sk-estimator-doc-link.fitted {\n",
              "  /* fitted */\n",
              "  border: var(--sklearn-color-fitted-level-1) 1pt solid;\n",
              "  color: var(--sklearn-color-fitted-level-1);\n",
              "}\n",
              "\n",
              "/* On hover */\n",
              "div.sk-estimator:hover .sk-estimator-doc-link:hover,\n",
              ".sk-estimator-doc-link:hover,\n",
              "div.sk-label-container:hover .sk-estimator-doc-link:hover,\n",
              ".sk-estimator-doc-link:hover {\n",
              "  /* unfitted */\n",
              "  background-color: var(--sklearn-color-unfitted-level-3);\n",
              "  color: var(--sklearn-color-background);\n",
              "  text-decoration: none;\n",
              "}\n",
              "\n",
              "div.sk-estimator.fitted:hover .sk-estimator-doc-link.fitted:hover,\n",
              ".sk-estimator-doc-link.fitted:hover,\n",
              "div.sk-label-container:hover .sk-estimator-doc-link.fitted:hover,\n",
              ".sk-estimator-doc-link.fitted:hover {\n",
              "  /* fitted */\n",
              "  background-color: var(--sklearn-color-fitted-level-3);\n",
              "  color: var(--sklearn-color-background);\n",
              "  text-decoration: none;\n",
              "}\n",
              "\n",
              "/* Span, style for the box shown on hovering the info icon */\n",
              ".sk-estimator-doc-link span {\n",
              "  display: none;\n",
              "  z-index: 9999;\n",
              "  position: relative;\n",
              "  font-weight: normal;\n",
              "  right: .2ex;\n",
              "  padding: .5ex;\n",
              "  margin: .5ex;\n",
              "  width: min-content;\n",
              "  min-width: 20ex;\n",
              "  max-width: 50ex;\n",
              "  color: var(--sklearn-color-text);\n",
              "  box-shadow: 2pt 2pt 4pt #999;\n",
              "  /* unfitted */\n",
              "  background: var(--sklearn-color-unfitted-level-0);\n",
              "  border: .5pt solid var(--sklearn-color-unfitted-level-3);\n",
              "}\n",
              "\n",
              ".sk-estimator-doc-link.fitted span {\n",
              "  /* fitted */\n",
              "  background: var(--sklearn-color-fitted-level-0);\n",
              "  border: var(--sklearn-color-fitted-level-3);\n",
              "}\n",
              "\n",
              ".sk-estimator-doc-link:hover span {\n",
              "  display: block;\n",
              "}\n",
              "\n",
              "/* \"?\"-specific style due to the `<a>` HTML tag */\n",
              "\n",
              "#sk-container-id-1 a.estimator_doc_link {\n",
              "  float: right;\n",
              "  font-size: 1rem;\n",
              "  line-height: 1em;\n",
              "  font-family: monospace;\n",
              "  background-color: var(--sklearn-color-background);\n",
              "  border-radius: 1rem;\n",
              "  height: 1rem;\n",
              "  width: 1rem;\n",
              "  text-decoration: none;\n",
              "  /* unfitted */\n",
              "  color: var(--sklearn-color-unfitted-level-1);\n",
              "  border: var(--sklearn-color-unfitted-level-1) 1pt solid;\n",
              "}\n",
              "\n",
              "#sk-container-id-1 a.estimator_doc_link.fitted {\n",
              "  /* fitted */\n",
              "  border: var(--sklearn-color-fitted-level-1) 1pt solid;\n",
              "  color: var(--sklearn-color-fitted-level-1);\n",
              "}\n",
              "\n",
              "/* On hover */\n",
              "#sk-container-id-1 a.estimator_doc_link:hover {\n",
              "  /* unfitted */\n",
              "  background-color: var(--sklearn-color-unfitted-level-3);\n",
              "  color: var(--sklearn-color-background);\n",
              "  text-decoration: none;\n",
              "}\n",
              "\n",
              "#sk-container-id-1 a.estimator_doc_link.fitted:hover {\n",
              "  /* fitted */\n",
              "  background-color: var(--sklearn-color-fitted-level-3);\n",
              "}\n",
              "</style><div id=\"sk-container-id-1\" class=\"sk-top-container\"><div class=\"sk-text-repr-fallback\"><pre>RandomForestClassifier(random_state=42)</pre><b>In a Jupyter environment, please rerun this cell to show the HTML representation or trust the notebook. <br />On GitHub, the HTML representation is unable to render, please try loading this page with nbviewer.org.</b></div><div class=\"sk-container\" hidden><div class=\"sk-item\"><div class=\"sk-estimator fitted sk-toggleable\"><input class=\"sk-toggleable__control sk-hidden--visually\" id=\"sk-estimator-id-1\" type=\"checkbox\" checked><label for=\"sk-estimator-id-1\" class=\"sk-toggleable__label fitted sk-toggleable__label-arrow fitted\">&nbsp;&nbsp;RandomForestClassifier<a class=\"sk-estimator-doc-link fitted\" rel=\"noreferrer\" target=\"_blank\" href=\"https://scikit-learn.org/1.4/modules/generated/sklearn.ensemble.RandomForestClassifier.html\">?<span>Documentation for RandomForestClassifier</span></a><span class=\"sk-estimator-doc-link fitted\">i<span>Fitted</span></span></label><div class=\"sk-toggleable__content fitted\"><pre>RandomForestClassifier(random_state=42)</pre></div> </div></div></div></div>"
            ],
            "text/plain": [
              "RandomForestClassifier(random_state=42)"
            ]
          },
          "execution_count": 18,
          "metadata": {},
          "output_type": "execute_result"
        }
      ],
      "source": [
        "# Creamos el modelo de clasificacion (Random Forest) y lo entremos con los datos\n",
        "model = RandomForestClassifier(random_state=42)\n",
        "model.fit(X_train, y_train)"
      ]
    },
    {
      "cell_type": "code",
      "execution_count": 19,
      "metadata": {
        "id": "wu6L1QQ5Vk91"
      },
      "outputs": [],
      "source": [
        "# Realizamos las predicciones en el conjunto de prueba\n",
        "predictions = model.predict(X_test)"
      ]
    },
    {
      "cell_type": "code",
      "execution_count": 20,
      "metadata": {
        "colab": {
          "base_uri": "https://localhost:8080/"
        },
        "id": "3vw-AHdsVqvM",
        "outputId": "d73b2d5b-2feb-4245-a6f5-e9442ad06fb5"
      },
      "outputs": [
        {
          "name": "stdout",
          "output_type": "stream",
          "text": [
            "Accuracy: 0.99\n"
          ]
        }
      ],
      "source": [
        "# Evaluamos el rendimiento del modelo\n",
        "accuracy = accuracy_score(y_test, predictions)\n",
        "print(f'Accuracy: {accuracy:.2f}')"
      ]
    },
    {
      "cell_type": "code",
      "execution_count": 21,
      "metadata": {
        "colab": {
          "base_uri": "https://localhost:8080/"
        },
        "id": "HFHTVmJHVwjC",
        "outputId": "2af23678-cced-469d-ac69-c34ee7ca520f"
      },
      "outputs": [
        {
          "name": "stdout",
          "output_type": "stream",
          "text": [
            "Classification Report:\n",
            "              precision    recall  f1-score   support\n",
            "\n",
            "           0       1.00      0.99      1.00       154\n",
            "           1       1.00      1.00      1.00       162\n",
            "           2       1.00      1.00      1.00       156\n",
            "           3       1.00      1.00      1.00       151\n",
            "           4       0.99      1.00      1.00       150\n",
            "           5       1.00      1.00      1.00       156\n",
            "\n",
            "   micro avg       1.00      1.00      1.00       929\n",
            "   macro avg       1.00      1.00      1.00       929\n",
            "weighted avg       1.00      1.00      1.00       929\n",
            " samples avg       0.78      0.78      0.78       929\n",
            "\n"
          ]
        },
        {
          "name": "stderr",
          "output_type": "stream",
          "text": [
            "c:\\Users\\Jorge HN\\Desktop\\Proyectos reales\\Proyecto No Country DATA\\s13-25-n-data-bi\\env\\Lib\\site-packages\\sklearn\\metrics\\_classification.py:1509: UndefinedMetricWarning: Precision is ill-defined and being set to 0.0 in samples with no predicted labels. Use `zero_division` parameter to control this behavior.\n",
            "  _warn_prf(average, modifier, f\"{metric.capitalize()} is\", len(result))\n",
            "c:\\Users\\Jorge HN\\Desktop\\Proyectos reales\\Proyecto No Country DATA\\s13-25-n-data-bi\\env\\Lib\\site-packages\\sklearn\\metrics\\_classification.py:1509: UndefinedMetricWarning: Recall is ill-defined and being set to 0.0 in samples with no true labels. Use `zero_division` parameter to control this behavior.\n",
            "  _warn_prf(average, modifier, f\"{metric.capitalize()} is\", len(result))\n",
            "c:\\Users\\Jorge HN\\Desktop\\Proyectos reales\\Proyecto No Country DATA\\s13-25-n-data-bi\\env\\Lib\\site-packages\\sklearn\\metrics\\_classification.py:1509: UndefinedMetricWarning: F-score is ill-defined and being set to 0.0 in samples with no true nor predicted labels. Use `zero_division` parameter to control this behavior.\n",
            "  _warn_prf(average, modifier, f\"{metric.capitalize()} is\", len(result))\n"
          ]
        }
      ],
      "source": [
        "print('Classification Report:')\n",
        "print(classification_report(y_test, predictions))"
      ]
    },
    {
      "cell_type": "code",
      "execution_count": 22,
      "metadata": {
        "colab": {
          "base_uri": "https://localhost:8080/",
          "height": 737
        },
        "id": "9-AcJVeHZuwU",
        "outputId": "7d705591-7002-480b-b061-7e287e0c920f"
      },
      "outputs": [
        {
          "data": {
            "image/png": "[encoded data removed]",
            "text/plain": [
              "<Figure size 1500x1000 with 12 Axes>"
            ]
          },
          "metadata": {},
          "output_type": "display_data"
        }
      ],
      "source": [
        "fig, axes = plt.subplots(2, 3, figsize=(15, 10))\n",
        "fig.suptitle('Confusion Matrices for Cryptocurrencies')\n",
        "\n",
        "# Iterar a través de las criptomonedas y dibujar las matrices de confusión\n",
        "for i, crypto in enumerate(cryptos):\n",
        "    conf_matrix = pd.crosstab(index=y_test[f'{crypto}_Target'], columns=predictions[:, i],\n",
        "                              rownames=['Actual'], colnames=['Predicted'])\n",
        "\n",
        "    # Obtener el índice correcto para el subgráfico\n",
        "    row_index = i // 3\n",
        "    col_index = i % 3\n",
        "\n",
        "    # Dibujar la matriz de confusión en el subgráfico correspondiente\n",
        "    sns.heatmap(conf_matrix, annot=True, fmt='d', cmap='Blues', ax=axes[row_index, col_index])\n",
        "    axes[row_index, col_index].set_title(f'{crypto}')\n",
        "\n",
        "# Ajustar el diseño y mostrar la figura\n",
        "plt.tight_layout(rect=[0, 0.03, 1, 0.95])\n",
        "plt.show()"
      ]
    },
    {
      "cell_type": "code",
      "execution_count": 23,
      "metadata": {
        "colab": {
          "base_uri": "https://localhost:8080/"
        },
        "id": "sXc4mnp5Y8GD",
        "outputId": "8e9bca99-2647-4cf8-a769-a87991fd6128"
      },
      "outputs": [
        {
          "name": "stdout",
          "output_type": "stream",
          "text": [
            "Recommended Cryptocurrency: LTC-USD\n"
          ]
        }
      ],
      "source": [
        "recommended_crypto = cryptos[model.feature_importances_.argmax()]\n",
        "print(f'Recommended Cryptocurrency: {recommended_crypto}')"
      ]
    },
    {
      "cell_type": "markdown",
      "metadata": {},
      "source": [
        "### PREDICCION SOBRE EL VALOR DE LAS CRYPTO"
      ]
    },
    {
      "cell_type": "code",
      "execution_count": null,
      "metadata": {},
      "outputs": [],
      "source": [
        "from sklearn.linear_model import LinearRegression\n",
        "\n",
        "cryptos = ['BTC-USD', 'ETH-USD', 'XRP-USD', 'LTC-USD', 'BCH-USD', 'ADA-USD']\n",
        "end_date = datetime.now().strftime(\"%Y-%m-%d\")\n",
        "\n",
        "start_date = (datetime.now() - timedelta(days=4*365)).strftime(\"%Y-%m-%d\")\n",
        "\n",
        "data = yf.download(cryptos, start=start_date, end=end_date)[\"Adj Close\"]\n",
        "\n",
        "predictions_df = pd.DataFrame(index=pd.date_range(start='2024-01-01', end='2024-12-31', freq='D'))\n",
        "\n",
        "for crypto in cryptos:\n",
        "    X = np.arange(len(data[data.index.year == 2024])).reshape(-1, 1)\n",
        "    y = data[data.index.year == 2024][crypto].values\n",
        "    \n",
        "\n",
        "    model = LinearRegression()\n",
        "    model.fit(X, y)\n",
        "    \n",
        "    predicted_prices = model.predict(np.arange(len(predictions_df)).reshape(-1, 1))\n",
        "    \n",
        "    predictions_df[crypto] = predicted_prices\n",
        "\n"
      ]
    },
    {
      "cell_type": "markdown",
      "metadata": {},
      "source": [
        "### GRAFICAMOS ESOS VALORES"
      ]
    },
    {
      "cell_type": "code",
      "execution_count": null,
      "metadata": {},
      "outputs": [],
      "source": [
        "# Graficar las predicciones para el año 2024\n",
        "plt.figure(figsize=(12, 6))\n",
        "for crypto in cryptos:\n",
        "    plt.plot(data[data.index.year == 2024].index, data[data.index.year == 2024][crypto], label=f'{crypto} Valor Real')\n",
        "    plt.plot(predictions_df.index, predictions_df[crypto], linestyle='--', label=f'{crypto} Predicción')\n",
        "plt.title('Predicciones de Criptomonedas para el Año 2024')\n",
        "plt.xlabel('Fecha')\n",
        "plt.ylabel('Precio de Cierre Ajustado')\n",
        "plt.legend()\n",
        "plt.show()\n"
      ]
    }
  ],
  "metadata": {
    "colab": {
      "provenance": []
    },
    "kernelspec": {
      "display_name": "Python 3",
      "name": "python3"
    },
    "language_info": {
      "codemirror_mode": {
        "name": "ipython",
        "version": 3
      },
      "file_extension": ".py",
      "mimetype": "text/x-python",
      "name": "python",
      "nbconvert_exporter": "python",
      "pygments_lexer": "ipython3",
      "version": "3.12.1"
    }
  },
  "nbformat": 4,
  "nbformat_minor": 0
}
