{
 "cells": [
  {
   "cell_type": "code",
   "execution_count": 1,
   "id": "8b82f640-8ffd-4a50-9853-851a92d77cc7",
   "metadata": {
    "tags": []
   },
   "outputs": [
    {
     "name": "stdout",
     "output_type": "stream",
     "text": [
      "Collecting snowflake-connector-python\n",
      "  Obtaining dependency information for snowflake-connector-python from https://files.pythonhosted.org/packages/19/33/71c6c6f1fcd013262c0d9a4b34ed90435c3e98ac70d65f47c2d07b278c40/snowflake_connector_python-3.7.0-cp312-cp312-win_amd64.whl.metadata\n",
      "  Downloading snowflake_connector_python-3.7.0-cp312-cp312-win_amd64.whl.metadata (60 kB)\n",
      "     ---------------------------------------- 0.0/60.7 kB ? eta -:--:--\n",
      "     ------------- -------------------------- 20.5/60.7 kB ? eta -:--:--\n",
      "     ------------------- ------------------ 30.7/60.7 kB 262.6 kB/s eta 0:00:01\n",
      "     ------------------- ------------------ 30.7/60.7 kB 262.6 kB/s eta 0:00:01\n",
      "     ------------------- ------------------ 30.7/60.7 kB 262.6 kB/s eta 0:00:01\n",
      "     -------------------------------------- 60.7/60.7 kB 248.4 kB/s eta 0:00:00\n",
      "Collecting asn1crypto<2.0.0,>0.24.0 (from snowflake-connector-python)\n",
      "  Using cached asn1crypto-1.5.1-py2.py3-none-any.whl (105 kB)\n",
      "Collecting cffi<2.0.0,>=1.9 (from snowflake-connector-python)\n",
      "  Obtaining dependency information for cffi<2.0.0,>=1.9 from https://files.pythonhosted.org/packages/e9/63/e285470a4880a4f36edabe4810057bd4b562c6ddcc165eacf9c3c7210b40/cffi-1.16.0-cp312-cp312-win_amd64.whl.metadata\n",
      "  Downloading cffi-1.16.0-cp312-cp312-win_amd64.whl.metadata (1.5 kB)\n",
      "Collecting cryptography<42.0.0,>=3.1.0 (from snowflake-connector-python)\n",
      "  Obtaining dependency information for cryptography<42.0.0,>=3.1.0 from https://files.pythonhosted.org/packages/f6/23/b28f4a03650512efff13a8fcbb977bac178a765c5a887a6720bee13fa85b/cryptography-41.0.7-cp37-abi3-win_amd64.whl.metadata\n",
      "  Downloading cryptography-41.0.7-cp37-abi3-win_amd64.whl.metadata (5.3 kB)\n",
      "Collecting pyOpenSSL<24.0.0,>=16.2.0 (from snowflake-connector-python)\n",
      "  Obtaining dependency information for pyOpenSSL<24.0.0,>=16.2.0 from https://files.pythonhosted.org/packages/db/de/007b832ad7a95e6a73745609bbe123c407aa2c46bb0b8f765c8718294e7f/pyOpenSSL-23.3.0-py3-none-any.whl.metadata\n",
      "  Downloading pyOpenSSL-23.3.0-py3-none-any.whl.metadata (12 kB)\n",
      "Collecting pyjwt<3.0.0 (from snowflake-connector-python)\n",
      "  Obtaining dependency information for pyjwt<3.0.0 from https://files.pythonhosted.org/packages/2b/4f/e04a8067c7c96c364cef7ef73906504e2f40d690811c021e1a1901473a19/PyJWT-2.8.0-py3-none-any.whl.metadata\n",
      "  Using cached PyJWT-2.8.0-py3-none-any.whl.metadata (4.2 kB)\n",
      "Collecting pytz (from snowflake-connector-python)\n",
      "  Obtaining dependency information for pytz from https://files.pythonhosted.org/packages/9c/3d/a121f284241f08268b21359bd425f7d4825cffc5ac5cd0e1b3d82ffd2b10/pytz-2024.1-py2.py3-none-any.whl.metadata\n",
      "  Using cached pytz-2024.1-py2.py3-none-any.whl.metadata (22 kB)\n",
      "Collecting requests<3.0.0 (from snowflake-connector-python)\n",
      "  Obtaining dependency information for requests<3.0.0 from https://files.pythonhosted.org/packages/70/8e/0e2d847013cb52cd35b38c009bb167a1a26b2ce6cd6965bf26b47bc0bf44/requests-2.31.0-py3-none-any.whl.metadata\n",
      "  Using cached requests-2.31.0-py3-none-any.whl.metadata (4.6 kB)\n",
      "Requirement already satisfied: packaging in c:\\users\\asus\\onedrive\\documentos\\visual_studio_2019\\nocountry\\s13-25-n-data-bi\\env\\lib\\site-packages (from snowflake-connector-python) (23.2)\n",
      "Collecting charset-normalizer<4,>=2 (from snowflake-connector-python)\n",
      "  Obtaining dependency information for charset-normalizer<4,>=2 from https://files.pythonhosted.org/packages/b6/7c/8debebb4f90174074b827c63242c23851bdf00a532489fba57fef3416e40/charset_normalizer-3.3.2-cp312-cp312-win_amd64.whl.metadata\n",
      "  Using cached charset_normalizer-3.3.2-cp312-cp312-win_amd64.whl.metadata (34 kB)\n",
      "Collecting idna<4,>=2.5 (from snowflake-connector-python)\n",
      "  Obtaining dependency information for idna<4,>=2.5 from https://files.pythonhosted.org/packages/c2/e7/a82b05cf63a603df6e68d59ae6a68bf5064484a0718ea5033660af4b54a9/idna-3.6-py3-none-any.whl.metadata\n",
      "  Using cached idna-3.6-py3-none-any.whl.metadata (9.9 kB)\n",
      "Collecting certifi>=2017.4.17 (from snowflake-connector-python)\n",
      "  Obtaining dependency information for certifi>=2017.4.17 from https://files.pythonhosted.org/packages/ba/06/a07f096c664aeb9f01624f858c3add0a4e913d6c96257acb4fce61e7de14/certifi-2024.2.2-py3-none-any.whl.metadata\n",
      "  Using cached certifi-2024.2.2-py3-none-any.whl.metadata (2.2 kB)\n",
      "Collecting typing-extensions<5,>=4.3 (from snowflake-connector-python)\n",
      "  Obtaining dependency information for typing-extensions<5,>=4.3 from https://files.pythonhosted.org/packages/b7/f4/6a90020cd2d93349b442bfcb657d0dc91eee65491600b2cb1d388bc98e6b/typing_extensions-4.9.0-py3-none-any.whl.metadata\n",
      "  Using cached typing_extensions-4.9.0-py3-none-any.whl.metadata (3.0 kB)\n",
      "Collecting filelock<4,>=3.5 (from snowflake-connector-python)\n",
      "  Obtaining dependency information for filelock<4,>=3.5 from https://files.pythonhosted.org/packages/81/54/84d42a0bee35edba99dee7b59a8d4970eccdd44b99fe728ed912106fc781/filelock-3.13.1-py3-none-any.whl.metadata\n",
      "  Downloading filelock-3.13.1-py3-none-any.whl.metadata (2.8 kB)\n",
      "Collecting sortedcontainers>=2.4.0 (from snowflake-connector-python)\n",
      "  Using cached sortedcontainers-2.4.0-py2.py3-none-any.whl (29 kB)\n",
      "Collecting platformdirs<4.0.0,>=2.6.0 (from snowflake-connector-python)\n",
      "  Obtaining dependency information for platformdirs<4.0.0,>=2.6.0 from https://files.pythonhosted.org/packages/56/29/3ec311dc18804409ecf0d2b09caa976f3ae6215559306b5b530004e11156/platformdirs-3.11.0-py3-none-any.whl.metadata\n",
      "  Downloading platformdirs-3.11.0-py3-none-any.whl.metadata (11 kB)\n",
      "Collecting tomlkit (from snowflake-connector-python)\n",
      "  Obtaining dependency information for tomlkit from https://files.pythonhosted.org/packages/6e/43/159750d32481f16e34cc60090b53bc0a14314ad0c1f67a9bb64f3f3a0551/tomlkit-0.12.3-py3-none-any.whl.metadata\n",
      "  Downloading tomlkit-0.12.3-py3-none-any.whl.metadata (2.7 kB)\n",
      "Collecting pycparser (from cffi<2.0.0,>=1.9->snowflake-connector-python)\n",
      "  Using cached pycparser-2.21-py2.py3-none-any.whl (118 kB)\n",
      "Collecting urllib3<3,>=1.21.1 (from requests<3.0.0->snowflake-connector-python)\n",
      "  Obtaining dependency information for urllib3<3,>=1.21.1 from https://files.pythonhosted.org/packages/88/75/311454fd3317aefe18415f04568edc20218453b709c63c58b9292c71be17/urllib3-2.2.0-py3-none-any.whl.metadata\n",
      "  Using cached urllib3-2.2.0-py3-none-any.whl.metadata (6.4 kB)\n",
      "Downloading snowflake_connector_python-3.7.0-cp312-cp312-win_amd64.whl (900 kB)\n",
      "   ---------------------------------------- 0.0/900.1 kB ? eta -:--:--\n",
      "   ----- ---------------------------------- 112.6/900.1 kB 3.3 MB/s eta 0:00:01\n",
      "   ---------------------- ----------------- 501.8/900.1 kB 6.3 MB/s eta 0:00:01\n",
      "   ---------------------------------------- 900.1/900.1 kB 7.1 MB/s eta 0:00:00\n",
      "Using cached certifi-2024.2.2-py3-none-any.whl (163 kB)\n",
      "Downloading cffi-1.16.0-cp312-cp312-win_amd64.whl (181 kB)\n",
      "   ---------------------------------------- 0.0/182.0 kB ? eta -:--:--\n",
      "   --------------------------------------- 182.0/182.0 kB 10.7 MB/s eta 0:00:00\n",
      "Using cached charset_normalizer-3.3.2-cp312-cp312-win_amd64.whl (100 kB)\n",
      "Downloading cryptography-41.0.7-cp37-abi3-win_amd64.whl (2.7 MB)\n",
      "   ---------------------------------------- 0.0/2.7 MB ? eta -:--:--\n",
      "   ----- ---------------------------------- 0.4/2.7 MB 25.3 MB/s eta 0:00:01\n",
      "   -------------- ------------------------- 1.0/2.7 MB 12.1 MB/s eta 0:00:01\n",
      "   --------------------- ------------------ 1.4/2.7 MB 11.5 MB/s eta 0:00:01\n",
      "   ------------------------ --------------- 1.7/2.7 MB 9.6 MB/s eta 0:00:01\n",
      "   ---------------------------------------  2.7/2.7 MB 12.2 MB/s eta 0:00:01\n",
      "   ---------------------------------------- 2.7/2.7 MB 11.4 MB/s eta 0:00:00\n",
      "Downloading filelock-3.13.1-py3-none-any.whl (11 kB)\n",
      "Using cached idna-3.6-py3-none-any.whl (61 kB)\n",
      "Downloading platformdirs-3.11.0-py3-none-any.whl (17 kB)\n",
      "Using cached PyJWT-2.8.0-py3-none-any.whl (22 kB)\n",
      "Downloading pyOpenSSL-23.3.0-py3-none-any.whl (58 kB)\n",
      "   ---------------------------------------- 0.0/58.8 kB ? eta -:--:--\n",
      "   ---------------------------------------- 58.8/58.8 kB ? eta 0:00:00\n",
      "Using cached requests-2.31.0-py3-none-any.whl (62 kB)\n",
      "Using cached typing_extensions-4.9.0-py3-none-any.whl (32 kB)\n",
      "Using cached pytz-2024.1-py2.py3-none-any.whl (505 kB)\n",
      "Downloading tomlkit-0.12.3-py3-none-any.whl (37 kB)\n",
      "Using cached urllib3-2.2.0-py3-none-any.whl (120 kB)\n",
      "Installing collected packages: sortedcontainers, pytz, asn1crypto, urllib3, typing-extensions, tomlkit, pyjwt, pycparser, platformdirs, idna, filelock, charset-normalizer, certifi, requests, cffi, cryptography, pyOpenSSL, snowflake-connector-python\n",
      "  Attempting uninstall: platformdirs\n",
      "    Found existing installation: platformdirs 4.2.0\n",
      "    Uninstalling platformdirs-4.2.0:\n",
      "      Successfully uninstalled platformdirs-4.2.0\n",
      "Successfully installed asn1crypto-1.5.1 certifi-2024.2.2 cffi-1.16.0 charset-normalizer-3.3.2 cryptography-41.0.7 filelock-3.13.1 idna-3.6 platformdirs-3.11.0 pyOpenSSL-23.3.0 pycparser-2.21 pyjwt-2.8.0 pytz-2024.1 requests-2.31.0 snowflake-connector-python-3.7.0 sortedcontainers-2.4.0 tomlkit-0.12.3 typing-extensions-4.9.0 urllib3-2.2.0\n"
     ]
    },
    {
     "name": "stderr",
     "output_type": "stream",
     "text": [
      "\n",
      "[notice] A new release of pip is available: 23.2.1 -> 24.0\n",
      "[notice] To update, run: python.exe -m pip install --upgrade pip\n"
     ]
    }
   ],
   "source": [
    "!pip install snowflake-connector-python"
   ]
  },
  {
   "cell_type": "code",
   "execution_count": 2,
   "id": "2d6886a9-c746-49d7-815f-954e7ff8d9fb",
   "metadata": {
    "tags": []
   },
   "outputs": [],
   "source": [
    "import snowflake.connector"
   ]
  },
  {
   "cell_type": "code",
   "execution_count": 9,
   "id": "4a78049a-21be-449e-8669-d7b26a952164",
   "metadata": {
    "tags": []
   },
   "outputs": [],
   "source": [
    "conn = snowflake.connector.connect(\n",
    "    user='broc95',\n",
    "    password='1234567Aa',\n",
    "    account='pd72300.us-east4.gcp',\n",
    "    database='DATA',\n",
    "    schema='CONSTRUCCION', \n",
    "    warehouse='COMPUTE_WH'  \n",
    ")"
   ]
  },
  {
   "cell_type": "code",
   "execution_count": 10,
   "id": "c1899a21-5ae9-42de-9b10-26883d53bdbe",
   "metadata": {
    "tags": []
   },
   "outputs": [
    {
     "name": "stdout",
     "output_type": "stream",
     "text": [
      "(1, 2, 'Homecenter', 'Parcialmente', datetime.datetime(2020, 12, 10, 0, 0), 281, 20)\n",
      "(2, 2, 'Minerales Estalactita', 'No', datetime.datetime(2021, 4, 16, 0, 0), 38, 4)\n",
      "(3, 18, 'Minerales Estalactita', 'Si', datetime.datetime(2020, 5, 21, 0, 0), 331, 14)\n",
      "(4, 8, 'Bricolajes La Alameda', 'Si', datetime.datetime(2020, 12, 17, 0, 0), 152, 20)\n",
      "(5, 19, 'Cementos El Dorado', 'No', datetime.datetime(2021, 3, 7, 0, 0), 117, 15)\n",
      "(6, 4, 'JUMBO', 'Parcialmente', datetime.datetime(2021, 5, 25, 0, 0), 177, 8)\n",
      "(7, 15, 'Minerales Estalactita', 'No', datetime.datetime(2020, 10, 3, 0, 0), 76, 3)\n",
      "(8, 13, 'Minerales Estalactita', 'Si', datetime.datetime(2021, 5, 9, 0, 0), 160, 15)\n",
      "(9, 12, 'Bricolajes La Alameda', 'Parcialmente', datetime.datetime(2020, 1, 17, 0, 0), 111, 11)\n",
      "(10, 14, 'Minerales Estalactita', 'Si', datetime.datetime(2020, 11, 10, 0, 0), 130, 18)\n"
     ]
    }
   ],
   "source": [
    "cursor = conn.cursor()\n",
    "cursor.execute('SELECT * FROM \"Compra\" LIMIT 10')  \n",
    "\n",
    "for row in cursor.fetchall():\n",
    "    print(row)"
   ]
  },
  {
   "cell_type": "code",
   "execution_count": 7,
   "id": "31f08d90-976c-4952-b873-021249985623",
   "metadata": {
    "tags": []
   },
   "outputs": [],
   "source": [
    "cursor.close()\n",
    "conn.close()"
   ]
  },
  {
   "cell_type": "code",
   "execution_count": null,
   "id": "83e8a0ee-33db-484f-b91a-99784c3dedf3",
   "metadata": {},
   "outputs": [],
   "source": []
  }
 ],
 "metadata": {
  "kernelspec": {
   "display_name": "Python 3 (ipykernel)",
   "language": "python",
   "name": "python3"
  },
  "language_info": {
   "codemirror_mode": {
    "name": "ipython",
    "version": 3
   },
   "file_extension": ".py",
   "mimetype": "text/x-python",
   "name": "python",
   "nbconvert_exporter": "python",
   "pygments_lexer": "ipython3",
   "version": "3.12.1"
  }
 },
 "nbformat": 4,
 "nbformat_minor": 5
}
